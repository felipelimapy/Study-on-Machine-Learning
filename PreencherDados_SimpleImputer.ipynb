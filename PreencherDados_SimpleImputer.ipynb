{
  "nbformat": 4,
  "nbformat_minor": 0,
  "metadata": {
    "colab": {
      "provenance": [],
      "authorship_tag": "ABX9TyP20RQYNVOYC3Gb+QZSWv+D",
      "include_colab_link": true
    },
    "kernelspec": {
      "name": "python3",
      "display_name": "Python 3"
    },
    "language_info": {
      "name": "python"
    }
  },
  "cells": [
    {
      "cell_type": "markdown",
      "metadata": {
        "id": "view-in-github",
        "colab_type": "text"
      },
      "source": [
        "<a href=\"https://colab.research.google.com/github/felipelimapy/Study-on-Machine-Learning/blob/main/PreencherDados_SimpleImputer.ipynb\" target=\"_parent\"><img src=\"https://colab.research.google.com/assets/colab-badge.svg\" alt=\"Open In Colab\"/></a>"
      ]
    },
    {
      "cell_type": "code",
      "execution_count": null,
      "metadata": {
        "id": "p02w-9lyzWuf"
      },
      "outputs": [],
      "source": [
        "import pandas as pd \n",
        "import numpy as np"
      ]
    },
    {
      "cell_type": "code",
      "source": [
        "df=pd.read_csv(\"/content/svbr.csv\", delimiter=';')"
      ],
      "metadata": {
        "id": "rU9ERnNPznWl"
      },
      "execution_count": null,
      "outputs": []
    },
    {
      "cell_type": "code",
      "source": [
        "x= df.iloc[:,:].values #atribuindo todas as colunas e todos os dados para X // transforma a base em um array "
      ],
      "metadata": {
        "id": "hJ8zmmpwztUW"
      },
      "execution_count": null,
      "outputs": []
    },
    {
      "cell_type": "code",
      "source": [
        "from sklearn.impute import SimpleImputer #importando a biblioteca SimpleImputer pro exemplo"
      ],
      "metadata": {
        "id": "FgPQcU8Q0j87"
      },
      "execution_count": null,
      "outputs": []
    },
    {
      "cell_type": "code",
      "source": [
        "imputer=SimpleImputer(missing_values=np.nan, strategy= 'median') #criando a variavael imputer para introduzir os dados NaN a partir da média das colunas"
      ],
      "metadata": {
        "id": "w8ZzaBUq1jnO"
      },
      "execution_count": null,
      "outputs": []
    },
    {
      "cell_type": "code",
      "source": [
        "imputer= imputer.fit(x[:,1:3]) #localizando as colunas de inscritos e visualizações para imputar"
      ],
      "metadata": {
        "id": "ukGUQ-pb3caw"
      },
      "execution_count": null,
      "outputs": []
    },
    {
      "cell_type": "code",
      "source": [
        "x= imputer.fit_transform(x[:,1:3]).astype(str) #transformando os dados em string"
      ],
      "metadata": {
        "id": "NoubV9CZ3__h"
      },
      "execution_count": null,
      "outputs": []
    },
    {
      "cell_type": "code",
      "source": [
        "x=np.insert(x, 0, df.iloc[:,0].values,axis=1) #inserir os canais de volta a coluna de inscritos"
      ],
      "metadata": {
        "id": "nj1Xft0G4zin"
      },
      "execution_count": null,
      "outputs": []
    },
    {
      "cell_type": "code",
      "source": [
        "x"
      ],
      "metadata": {
        "colab": {
          "base_uri": "https://localhost:8080/"
        },
        "id": "Zm4i1ecQ43Jp",
        "outputId": "a3e1cbbb-bdcf-434c-e7c7-2b496e1c3bc8"
      },
      "execution_count": null,
      "outputs": [
        {
          "output_type": "execute_result",
          "data": {
            "text/plain": [
              "array([['Site Arqueologia Egípcia', '13438.0', '406590.0'],\n",
              "       ['Terra Negra', '35241.0', '868235.0'],\n",
              "       ['Frank Jaava', '31680.0', '2856508.0'],\n",
              "       ['Dispersciência', '25100.0', '150000.0'],\n",
              "       ['Olá Ciência', '32788.0', '1575456.0'],\n",
              "       ['A matemaníaca por Julia Jaccoud', '65453.0', '1667892.0'],\n",
              "       ['Delta T - Os super lentos', '12000.0', '171361.0'],\n",
              "       ['Bláblálogia', '161951.0', '11027386.0'],\n",
              "       ['Efarsas', '78876.0', '6226235.0'],\n",
              "       ['Minuto da Terra', '274196.0', '30166457.0'],\n",
              "       ['Canal Cura Quântica', '13148.0', '250020.0'],\n",
              "       ['Mensageiro Sideral', '72425.0', '7551491.0'],\n",
              "       ['Universo Racionalista', '7858.0', '43662.0'],\n",
              "       ['Xadrez Verbal', '110549.0', '4151548.0'],\n",
              "       ['Reinaldo José Lopes', '11188.0', '541832.0'],\n",
              "       [\"Bio's Fera\", '5299.0', '44312.0'],\n",
              "       ['QuerQueDesenhe', '56006.0', '1329268.0'],\n",
              "       ['Prof André Azevedo da Fonseca', '45756.0', '1825724.0'],\n",
              "       ['Matemática Rio com Prof Rafael P', '1423056.0', '93036517.0'],\n",
              "       ['Ponto em Comum', '129466.0', '5027880.0'],\n",
              "       ['Canal do Slow', '137409.0', '5363423.0'],\n",
              "       ['Boteco Behaviorista', '18404.0', '1427977.0'],\n",
              "       ['Papo de Primata', '42063.0', '1111334.0'],\n",
              "       ['Minutos Psíquicos', '648892.0', '22555134.0'],\n",
              "       ['Alimente o Cérebro', '135118.0', '3375528.0'],\n",
              "       ['Canal Zoa', '9118.0', '683190.0'],\n",
              "       ['Papo de Biólogo', '374057.0', '12139385.0'],\n",
              "       ['Eu, Ciência', '88211.0', '1616496.0'],\n",
              "       ['Peixe Babel', '49797.0', '1595976.0'],\n",
              "       ['SpaceToday', '321068.0', '26277335.0'],\n",
              "       ['Ciência todo dia', '528761.0', '16969332.0'],\n",
              "       ['Colecionadores de Ossos', '24894.0', '806815.0'],\n",
              "       ['Canal do Pirula', '752573.0', '76462787.0'],\n",
              "       ['Jornal Ciensacional', '6216.0', '104217.0'],\n",
              "       ['iBioMovies - Canal de Biologia', '17388.0', '563535.0'],\n",
              "       ['Primata Falante', '110840.0', '4540321.0'],\n",
              "       ['Dragões de Garagem', '6421.0', '82599.0'],\n",
              "       ['Café e Ciência', '38494.0', '916320.0'],\n",
              "       ['Mimimidias', '66122.0', '2009621.0'],\n",
              "       ['Schwarza - Poligonautas', '860493.0', '118741623.0'],\n",
              "       ['Caio na Aula', '13661.0', '748018.0'],\n",
              "       ['ComCiência Corporal', '2308.0', '16150.0'],\n",
              "       ['Leitura ObrigaHISTORIA', '138132.0', '3013264.0'],\n",
              "       ['Portal da Ciência', '64100.0', '2139717.0'],\n",
              "       ['Universo Discreto', '2330.0', '74680.0'],\n",
              "       ['Astrotubers', '4357.0', '41228.0'],\n",
              "       ['O Físico Turista', '53838.0', '1004921.0']], dtype='<U32')"
            ]
          },
          "metadata": {},
          "execution_count": 80
        }
      ]
    },
    {
      "cell_type": "code",
      "source": [],
      "metadata": {
        "id": "FX0pCMd65bbH"
      },
      "execution_count": null,
      "outputs": []
    }
  ]
}
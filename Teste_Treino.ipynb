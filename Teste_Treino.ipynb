{
  "nbformat": 4,
  "nbformat_minor": 0,
  "metadata": {
    "colab": {
      "provenance": [],
      "authorship_tag": "ABX9TyNvDCmtNxX5kcPsrqgvNh+v",
      "include_colab_link": true
    },
    "kernelspec": {
      "name": "python3",
      "display_name": "Python 3"
    },
    "language_info": {
      "name": "python"
    }
  },
  "cells": [
    {
      "cell_type": "markdown",
      "metadata": {
        "id": "view-in-github",
        "colab_type": "text"
      },
      "source": [
        "<a href=\"https://colab.research.google.com/github/felipelimapy/Study-on-Machine-Learning/blob/main/Teste_Treino.ipynb\" target=\"_parent\"><img src=\"https://colab.research.google.com/assets/colab-badge.svg\" alt=\"Open In Colab\"/></a>"
      ]
    },
    {
      "cell_type": "code",
      "execution_count": 55,
      "metadata": {
        "id": "ZG8UuG3HDx53"
      },
      "outputs": [],
      "source": [
        "import numpy as np\n",
        "import pandas as pd"
      ]
    },
    {
      "cell_type": "code",
      "source": [
        "df=pd.read_csv(\"/content/admission.csv\", delimiter=';')"
      ],
      "metadata": {
        "id": "hNtXdFM4D5iq"
      },
      "execution_count": 56,
      "outputs": []
    },
    {
      "cell_type": "code",
      "source": [
        "x=df.iloc[:,:-1].values #atribuindo as amostras independentes a variavel X"
      ],
      "metadata": {
        "id": "VeA9lg5HEB82"
      },
      "execution_count": 57,
      "outputs": []
    },
    {
      "cell_type": "code",
      "source": [
        "y= df.iloc[:,-1].values #pegando as amostras da ultima coluna"
      ],
      "metadata": {
        "id": "enVp1D9YF7cg"
      },
      "execution_count": 58,
      "outputs": []
    },
    {
      "cell_type": "code",
      "source": [
        "from sklearn.impute import SimpleImputer"
      ],
      "metadata": {
        "id": "BNgjF2k6ETpK"
      },
      "execution_count": 59,
      "outputs": []
    },
    {
      "cell_type": "code",
      "source": [
        "imputer= SimpleImputer(missing_values=np.nan, strategy='median') "
      ],
      "metadata": {
        "id": "ZJxBIqkkEa8W"
      },
      "execution_count": 60,
      "outputs": []
    },
    {
      "cell_type": "code",
      "source": [
        "imputer= imputer.fit_transform(x[:,1:])"
      ],
      "metadata": {
        "id": "dNsnEGarEvbF"
      },
      "execution_count": 61,
      "outputs": []
    },
    {
      "cell_type": "code",
      "source": [
        "from sklearn.preprocessing import LabelEncoder #bibiloteca para rotulos aleatórios na coluna"
      ],
      "metadata": {
        "id": "hqo2Cd0QE8Gk"
      },
      "execution_count": 62,
      "outputs": []
    },
    {
      "cell_type": "code",
      "source": [
        "labelencoder_x=LabelEncoder()"
      ],
      "metadata": {
        "id": "gDnsrRhuKjjJ"
      },
      "execution_count": 63,
      "outputs": []
    },
    {
      "cell_type": "code",
      "source": [
        "x[:,0]= labelencoder_x.fit_transform(x[:,0]) #atribuindo valores randomicos na coluna 0 do daset"
      ],
      "metadata": {
        "id": "x4pgcfUcKqoe"
      },
      "execution_count": 64,
      "outputs": []
    },
    {
      "cell_type": "code",
      "source": [
        "# rotulos binários não influenciam na decisão do modelo"
      ],
      "metadata": {
        "id": "S-a_lEf4Gyz9"
      },
      "execution_count": 65,
      "outputs": []
    },
    {
      "cell_type": "code",
      "source": [
        "x=x[:,1:]"
      ],
      "metadata": {
        "id": "icX5kKqtL-Wz"
      },
      "execution_count": 66,
      "outputs": []
    },
    {
      "cell_type": "code",
      "source": [
        "d=pd.get_dummies(x[:,0]) #atribuindo valores binários na coluna 0 do dataset"
      ],
      "metadata": {
        "id": "G2IOsFesKTPu"
      },
      "execution_count": 67,
      "outputs": []
    },
    {
      "cell_type": "code",
      "source": [
        "x= np.insert(x,0, d.values, axis=1) #colocando os valores na coluna de X a partir da coluna 0 os valores de D"
      ],
      "metadata": {
        "id": "VAzHnWPHLQQK"
      },
      "execution_count": 68,
      "outputs": []
    },
    {
      "cell_type": "code",
      "source": [
        "from sklearn.model_selection import train_test_split"
      ],
      "metadata": {
        "id": "NRFkhZsFLQ1H"
      },
      "execution_count": 69,
      "outputs": []
    },
    {
      "cell_type": "code",
      "source": [
        "xTrain,xTest,yTrain,yTest= train_test_split(x,y, test_size=0.3)"
      ],
      "metadata": {
        "id": "g19I5HByMSYp"
      },
      "execution_count": 70,
      "outputs": []
    },
    {
      "cell_type": "code",
      "source": [
        "print(xTrain)"
      ],
      "metadata": {
        "colab": {
          "base_uri": "https://localhost:8080/"
        },
        "id": "2UWeIcpuOxfM",
        "outputId": "6853080d-7040-4934-dc75-f42e9d31ca6a"
      },
      "execution_count": 71,
      "outputs": [
        {
          "output_type": "stream",
          "name": "stdout",
          "text": [
            "[[0 0 1 0 0 0 0 0 0 322 110 3 3.5 2.5 8.67 1]\n",
            " [0 0 0 0 1 0 0 0 0 316 104 3 3.0 3.5 8.0 1]\n",
            " [0 1 0 0 0 0 0 0 0 321 109 3 3.0 4.0 8.2 1]\n",
            " [0 0 0 0 0 1 0 0 0 308 101 2 3.0 4.0 7.9 0]\n",
            " [1 0 0 0 0 0 0 0 0 302 102 1 2.0 1.5 8.0 0]\n",
            " [0 0 0 0 0 0 1 0 0 314 103 2 2.0 3.0 8.21 0]]\n"
          ]
        }
      ]
    },
    {
      "cell_type": "markdown",
      "source": [
        "NORMALIZANDO OS DADOS\n"
      ],
      "metadata": {
        "id": "zc0ueWDZVE6G"
      }
    },
    {
      "cell_type": "code",
      "source": [
        "from sklearn.preprocessing import StandardScaler #importando o normalizador para deixar os dados mais ou menos parecidos"
      ],
      "metadata": {
        "id": "iYw2pmgSVIdl"
      },
      "execution_count": 72,
      "outputs": []
    },
    {
      "cell_type": "code",
      "source": [
        "scaleX= StandardScaler()"
      ],
      "metadata": {
        "id": "0J3VzPxzVjOQ"
      },
      "execution_count": 73,
      "outputs": []
    },
    {
      "cell_type": "code",
      "source": [
        "xTrain=scaleX.fit_transform(xTrain)   #fit_transform= computa os parâmentros da variavel e transforma essa aplicação nos dados"
      ],
      "metadata": {
        "id": "f8XPqg6SVwJj"
      },
      "execution_count": 75,
      "outputs": []
    },
    {
      "cell_type": "code",
      "source": [
        "xTest=scaleX.fit_transform(xTest)"
      ],
      "metadata": {
        "id": "Bg7BRWQVWaN_"
      },
      "execution_count": 77,
      "outputs": []
    },
    {
      "cell_type": "code",
      "source": [
        "print (xTrain)"
      ],
      "metadata": {
        "colab": {
          "base_uri": "https://localhost:8080/"
        },
        "id": "2lguzKrqWwMV",
        "outputId": "65a292c3-32ad-4225-cfb0-eff5ce77ea90"
      },
      "execution_count": 78,
      "outputs": [
        {
          "output_type": "stream",
          "name": "stdout",
          "text": [
            "[[-0.4472136  -0.4472136   2.23606798  0.         -0.4472136  -0.4472136\n",
            "  -0.4472136   0.          0.          1.16108528  1.50372088  0.89442719\n",
            "   1.34164079 -0.65850461  2.00556329  1.        ]\n",
            " [-0.4472136  -0.4472136  -0.4472136   0.          2.23606798 -0.4472136\n",
            "  -0.4472136   0.          0.          0.30804303 -0.24253563  0.89442719\n",
            "   0.4472136   0.47036043 -0.64653027  1.        ]\n",
            " [-0.4472136   2.23606798 -0.4472136   0.         -0.4472136  -0.4472136\n",
            "  -0.4472136   0.          0.          1.01891157  1.21267813  0.89442719\n",
            "   0.4472136   1.03479296  0.14513945  1.        ]\n",
            " [-0.4472136  -0.4472136  -0.4472136   0.         -0.4472136   2.23606798\n",
            "  -0.4472136   0.          0.         -0.82934663 -1.11566388 -0.4472136\n",
            "   0.4472136   1.03479296 -1.04236513 -1.        ]\n",
            " [ 2.23606798 -0.4472136  -0.4472136   0.         -0.4472136  -0.4472136\n",
            "  -0.4472136   0.          0.         -1.68238888 -0.82462113 -1.78885438\n",
            "  -1.34164079 -1.78736965 -0.64653027 -1.        ]\n",
            " [-0.4472136  -0.4472136  -0.4472136   0.         -0.4472136  -0.4472136\n",
            "   2.23606798  0.          0.          0.02369562 -0.53357838 -0.4472136\n",
            "  -1.34164079 -0.09407209  0.18472293 -1.        ]]\n"
          ]
        }
      ]
    },
    {
      "cell_type": "code",
      "source": [
        "print (xTest)"
      ],
      "metadata": {
        "colab": {
          "base_uri": "https://localhost:8080/"
        },
        "id": "pTxrKYSoW5UO",
        "outputId": "efd1b936-cab3-4e36-f1c9-515a6a0cc74e"
      },
      "execution_count": 79,
      "outputs": [
        {
          "output_type": "stream",
          "name": "stdout",
          "text": [
            "[[ 0.          0.          0.         -0.70710678  0.          0.\n",
            "   0.          1.41421356 -0.70710678 -1.19216603 -1.3641205  -0.70710678\n",
            "  -1.41421356  0.70710678 -1.29940719  0.        ]\n",
            " [ 0.          0.          0.          1.41421356  0.          0.\n",
            "   0.         -0.70710678 -0.70710678 -0.06274558  0.35897908  1.41421356\n",
            "   0.70710678 -1.41421356  0.16632412  0.        ]\n",
            " [ 0.          0.          0.         -0.70710678  0.          0.\n",
            "   0.         -0.70710678  1.41421356  1.25491161  1.00514142 -0.70710678\n",
            "   0.70710678  0.70710678  1.13308307  0.        ]]\n"
          ]
        }
      ]
    },
    {
      "cell_type": "code",
      "source": [],
      "metadata": {
        "id": "Lbdc57QoXTYx"
      },
      "execution_count": null,
      "outputs": []
    }
  ]
}
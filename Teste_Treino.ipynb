{
  "nbformat": 4,
  "nbformat_minor": 0,
  "metadata": {
    "colab": {
      "provenance": [],
      "authorship_tag": "ABX9TyPt+5vX6+v+0X9A/vCV/gzR",
      "include_colab_link": true
    },
    "kernelspec": {
      "name": "python3",
      "display_name": "Python 3"
    },
    "language_info": {
      "name": "python"
    }
  },
  "cells": [
    {
      "cell_type": "markdown",
      "metadata": {
        "id": "view-in-github",
        "colab_type": "text"
      },
      "source": [
        "<a href=\"https://colab.research.google.com/github/felipelimapy/Study-on-Machine-Learning/blob/main/Teste_Treino.ipynb\" target=\"_parent\"><img src=\"https://colab.research.google.com/assets/colab-badge.svg\" alt=\"Open In Colab\"/></a>"
      ]
    },
    {
      "cell_type": "code",
      "execution_count": 1,
      "metadata": {
        "id": "ZG8UuG3HDx53"
      },
      "outputs": [],
      "source": [
        "import numpy as np\n",
        "import pandas as pd"
      ]
    },
    {
      "cell_type": "code",
      "source": [
        "df=pd.read_csv(\"/content/admission.csv\", delimiter=';')"
      ],
      "metadata": {
        "id": "hNtXdFM4D5iq"
      },
      "execution_count": 2,
      "outputs": []
    },
    {
      "cell_type": "code",
      "source": [
        "x=df.iloc[:,:-1].values #atribuindo as amostras independentes a variavel X"
      ],
      "metadata": {
        "id": "VeA9lg5HEB82"
      },
      "execution_count": 3,
      "outputs": []
    },
    {
      "cell_type": "code",
      "source": [
        "y= df.iloc[:,-1].values #pegando as amostras da ultima coluna"
      ],
      "metadata": {
        "id": "enVp1D9YF7cg"
      },
      "execution_count": 4,
      "outputs": []
    },
    {
      "cell_type": "code",
      "source": [
        "from sklearn.impute import SimpleImputer"
      ],
      "metadata": {
        "id": "BNgjF2k6ETpK"
      },
      "execution_count": 5,
      "outputs": []
    },
    {
      "cell_type": "code",
      "source": [
        "imputer= SimpleImputer(missing_values=np.nan, strategy='median') "
      ],
      "metadata": {
        "id": "ZJxBIqkkEa8W"
      },
      "execution_count": 6,
      "outputs": []
    },
    {
      "cell_type": "code",
      "source": [
        "x[:,1:]= imputer.fit_transform(x[:,1:])"
      ],
      "metadata": {
        "id": "dNsnEGarEvbF"
      },
      "execution_count": 7,
      "outputs": []
    },
    {
      "cell_type": "code",
      "source": [
        "from sklearn.preprocessing import LabelEncoder #bibiloteca para rotulos aleatórios na coluna"
      ],
      "metadata": {
        "id": "hqo2Cd0QE8Gk"
      },
      "execution_count": 8,
      "outputs": []
    },
    {
      "cell_type": "code",
      "source": [
        "labelencoder_x=LabelEncoder()"
      ],
      "metadata": {
        "id": "gDnsrRhuKjjJ"
      },
      "execution_count": 9,
      "outputs": []
    },
    {
      "cell_type": "code",
      "source": [
        "x[:,0]= labelencoder_x.fit_transform(x[:,0]) #atribuindo valores randomicos na coluna 0 do daset"
      ],
      "metadata": {
        "id": "x4pgcfUcKqoe"
      },
      "execution_count": 10,
      "outputs": []
    },
    {
      "cell_type": "code",
      "source": [
        "# rotulos binários não influenciam na decisão do modelo"
      ],
      "metadata": {
        "id": "S-a_lEf4Gyz9"
      },
      "execution_count": 11,
      "outputs": []
    },
    {
      "cell_type": "code",
      "source": [
        "x=x[:,1:]"
      ],
      "metadata": {
        "id": "icX5kKqtL-Wz"
      },
      "execution_count": 12,
      "outputs": []
    },
    {
      "cell_type": "code",
      "source": [
        "d=pd.get_dummies(x[:,0]) #atribuindo valores binários na coluna 0 do dataset"
      ],
      "metadata": {
        "id": "G2IOsFesKTPu"
      },
      "execution_count": 13,
      "outputs": []
    },
    {
      "cell_type": "code",
      "source": [
        "x= np.insert(x,0, d.values, axis=1) #colocando os valores na coluna de X a partir da coluna 0 os valores de D"
      ],
      "metadata": {
        "id": "VAzHnWPHLQQK"
      },
      "execution_count": 14,
      "outputs": []
    },
    {
      "cell_type": "code",
      "source": [
        "from sklearn.model_selection import train_test_split"
      ],
      "metadata": {
        "id": "NRFkhZsFLQ1H"
      },
      "execution_count": 15,
      "outputs": []
    },
    {
      "cell_type": "code",
      "source": [
        "xTrain,xTest,yTrain,yTest= train_test_split(x,y, test_size=0.3)"
      ],
      "metadata": {
        "id": "g19I5HByMSYp"
      },
      "execution_count": 16,
      "outputs": []
    },
    {
      "cell_type": "code",
      "source": [
        "print(xTrain)"
      ],
      "metadata": {
        "colab": {
          "base_uri": "https://localhost:8080/"
        },
        "id": "2UWeIcpuOxfM",
        "outputId": "81d579bc-fe2d-4b4f-d11b-b17cdb51b809"
      },
      "execution_count": 17,
      "outputs": [
        {
          "output_type": "stream",
          "name": "stdout",
          "text": [
            "[[0 0 0 1 0 0 0 0 0 330.0 115.0 5.0 4.5 3.0 9.34 1.0]\n",
            " [0 0 0 0 0 0 0 1 0 324.0 107.0 4.0 4.0 4.5 8.87 1.0]\n",
            " [1 0 0 0 0 0 0 0 0 302.0 102.0 1.0 2.0 1.5 8.0 0.0]\n",
            " [0 0 0 0 0 1 0 0 0 308.0 101.0 2.0 3.0 4.0 7.9 0.0]\n",
            " [0 1 0 0 0 0 0 0 0 321.0 109.0 3.0 3.0 4.0 8.2 1.0]\n",
            " [0 0 1 0 0 0 0 0 0 322.0 110.0 3.0 3.5 2.5 8.67 1.0]]\n"
          ]
        }
      ]
    },
    {
      "cell_type": "markdown",
      "source": [
        "NORMALIZANDO OS DADOS\n"
      ],
      "metadata": {
        "id": "zc0ueWDZVE6G"
      }
    },
    {
      "cell_type": "code",
      "source": [
        "from sklearn.preprocessing import StandardScaler #importando o normalizador para deixar os dados mais ou menos parecidos"
      ],
      "metadata": {
        "id": "iYw2pmgSVIdl"
      },
      "execution_count": 18,
      "outputs": []
    },
    {
      "cell_type": "code",
      "source": [
        "scaleX= StandardScaler()"
      ],
      "metadata": {
        "id": "0J3VzPxzVjOQ"
      },
      "execution_count": 19,
      "outputs": []
    },
    {
      "cell_type": "code",
      "source": [
        "xTrain=scaleX.fit_transform(xTrain)   #fit_transform= computa os parâmentros da variavel e transforma essa aplicação nos dados"
      ],
      "metadata": {
        "id": "f8XPqg6SVwJj"
      },
      "execution_count": 20,
      "outputs": []
    },
    {
      "cell_type": "code",
      "source": [
        "xTest=scaleX.fit_transform(xTest)"
      ],
      "metadata": {
        "id": "Bg7BRWQVWaN_"
      },
      "execution_count": 21,
      "outputs": []
    },
    {
      "cell_type": "code",
      "source": [
        "print (xTrain)"
      ],
      "metadata": {
        "colab": {
          "base_uri": "https://localhost:8080/"
        },
        "id": "2lguzKrqWwMV",
        "outputId": "f99ac33b-70e4-4a3a-8061-c5915a7016fa"
      },
      "execution_count": 22,
      "outputs": [
        {
          "output_type": "stream",
          "name": "stdout",
          "text": [
            "[[-0.4472136  -0.4472136  -0.4472136   2.23606798  0.         -0.4472136\n",
            "   0.         -0.4472136   0.          1.25843366  1.60248593  1.54919334\n",
            "   1.4596009  -0.24253563  1.64793747  0.70710678]\n",
            " [-0.4472136  -0.4472136  -0.4472136  -0.4472136   0.         -0.4472136\n",
            "   0.          2.23606798  0.          0.63783624 -0.0696733   0.77459667\n",
            "   0.83405766  1.21267813  0.72952173  0.70710678]\n",
            " [ 2.23606798 -0.4472136  -0.4472136  -0.4472136   0.         -0.4472136\n",
            "   0.         -0.4472136   0.         -1.63768764 -1.11477282 -1.54919334\n",
            "  -1.66811531 -1.69774938 -0.97052444 -1.41421356]\n",
            " [-0.4472136  -0.4472136  -0.4472136  -0.4472136   0.          2.23606798\n",
            "   0.         -0.4472136   0.         -1.01709022 -1.32379273 -0.77459667\n",
            "  -0.41702883  0.72760688 -1.16593205 -1.41421356]\n",
            " [-0.4472136   2.23606798 -0.4472136  -0.4472136   0.         -0.4472136\n",
            "   0.         -0.4472136   0.          0.32753753  0.34836651  0.\n",
            "  -0.41702883  0.72760688 -0.57970923  0.70710678]\n",
            " [-0.4472136  -0.4472136   2.23606798 -0.4472136   0.         -0.4472136\n",
            "   0.         -0.4472136   0.          0.43097043  0.55738641  0.\n",
            "   0.20851441 -0.72760688  0.33870652  0.70710678]]\n"
          ]
        }
      ]
    },
    {
      "cell_type": "code",
      "source": [
        "print (xTest)"
      ],
      "metadata": {
        "colab": {
          "base_uri": "https://localhost:8080/"
        },
        "id": "pTxrKYSoW5UO",
        "outputId": "a2362360-84f9-4a10-d795-c4635843f15b"
      },
      "execution_count": 23,
      "outputs": [
        {
          "output_type": "stream",
          "name": "stdout",
          "text": [
            "[[ 0.          0.          0.          0.         -0.70710678  0.\n",
            "  -0.70710678  0.          1.41421356  1.40985094  1.41169791  1.22474487\n",
            "   1.29777137  1.33630621  1.40451644  0.70710678]\n",
            " [ 0.          0.          0.          0.          1.41421356  0.\n",
            "  -0.70710678  0.         -0.70710678 -0.60879927 -0.6328301   0.\n",
            "  -0.16222142 -0.26726124 -0.84543708  0.70710678]\n",
            " [ 0.          0.          0.          0.         -0.70710678  0.\n",
            "   1.41421356  0.         -0.70710678 -0.80105167 -0.77886781 -1.22474487\n",
            "  -1.13554995 -1.06904497 -0.55907936 -1.41421356]]\n"
          ]
        }
      ]
    },
    {
      "cell_type": "code",
      "source": [],
      "metadata": {
        "id": "Lbdc57QoXTYx"
      },
      "execution_count": null,
      "outputs": []
    }
  ]
}
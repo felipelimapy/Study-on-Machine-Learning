{
  "nbformat": 4,
  "nbformat_minor": 0,
  "metadata": {
    "colab": {
      "provenance": [],
      "authorship_tag": "ABX9TyM90SWCg6m0MSTYSH9plUbQ",
      "include_colab_link": true
    },
    "kernelspec": {
      "name": "python3",
      "display_name": "Python 3"
    },
    "language_info": {
      "name": "python"
    }
  },
  "cells": [
    {
      "cell_type": "markdown",
      "metadata": {
        "id": "view-in-github",
        "colab_type": "text"
      },
      "source": [
        "<a href=\"https://colab.research.google.com/github/felipelimapy/Study-on-Machine-Learning/blob/main/Teste_Treino.ipynb\" target=\"_parent\"><img src=\"https://colab.research.google.com/assets/colab-badge.svg\" alt=\"Open In Colab\"/></a>"
      ]
    },
    {
      "cell_type": "code",
      "execution_count": 28,
      "metadata": {
        "id": "ZG8UuG3HDx53"
      },
      "outputs": [],
      "source": [
        "import numpy as np\n",
        "import pandas as pd"
      ]
    },
    {
      "cell_type": "code",
      "source": [
        "df=pd.read_csv(\"/content/admission.csv\", delimiter=';')"
      ],
      "metadata": {
        "id": "hNtXdFM4D5iq"
      },
      "execution_count": 29,
      "outputs": []
    },
    {
      "cell_type": "code",
      "source": [
        "x=df.iloc[:,:-1].values #atribuindo as amostras independentes a variavel X"
      ],
      "metadata": {
        "id": "VeA9lg5HEB82"
      },
      "execution_count": 30,
      "outputs": []
    },
    {
      "cell_type": "code",
      "source": [
        "y= df.iloc[:,-1].values #pegando as amostras da ultima coluna"
      ],
      "metadata": {
        "id": "enVp1D9YF7cg"
      },
      "execution_count": 31,
      "outputs": []
    },
    {
      "cell_type": "code",
      "source": [
        "from sklearn.impute import SimpleImputer"
      ],
      "metadata": {
        "id": "BNgjF2k6ETpK"
      },
      "execution_count": 32,
      "outputs": []
    },
    {
      "cell_type": "code",
      "source": [
        "imputer= SimpleImputer(missing_values=np.nan, strategy='median') "
      ],
      "metadata": {
        "id": "ZJxBIqkkEa8W"
      },
      "execution_count": 33,
      "outputs": []
    },
    {
      "cell_type": "code",
      "source": [
        "imputer= imputer.fit_transform(x[:,1:])"
      ],
      "metadata": {
        "id": "dNsnEGarEvbF"
      },
      "execution_count": 34,
      "outputs": []
    },
    {
      "cell_type": "code",
      "source": [
        "from sklearn.preprocessing import LabelEncoder #bibiloteca para rotulos aleatórios na coluna"
      ],
      "metadata": {
        "id": "hqo2Cd0QE8Gk"
      },
      "execution_count": 35,
      "outputs": []
    },
    {
      "cell_type": "code",
      "source": [
        "labelencoder_x=LabelEncoder()"
      ],
      "metadata": {
        "id": "gDnsrRhuKjjJ"
      },
      "execution_count": 36,
      "outputs": []
    },
    {
      "cell_type": "code",
      "source": [
        "x[:,0]= labelencoder_x.fit_transform(x[:,0]) #atribuindo valores randomicos na coluna 0 do daset"
      ],
      "metadata": {
        "id": "x4pgcfUcKqoe"
      },
      "execution_count": 37,
      "outputs": []
    },
    {
      "cell_type": "code",
      "source": [
        "# rotulos binários não influenciam na decisão do modelo"
      ],
      "metadata": {
        "id": "S-a_lEf4Gyz9"
      },
      "execution_count": 38,
      "outputs": []
    },
    {
      "cell_type": "code",
      "source": [
        "x=x[:,1:]"
      ],
      "metadata": {
        "id": "icX5kKqtL-Wz"
      },
      "execution_count": 39,
      "outputs": []
    },
    {
      "cell_type": "code",
      "source": [
        "d=pd.get_dummies(x[:,0]) #atribuindo valores binários na coluna 0 do dataset"
      ],
      "metadata": {
        "id": "G2IOsFesKTPu"
      },
      "execution_count": 40,
      "outputs": []
    },
    {
      "cell_type": "code",
      "source": [
        "x= np.insert(x,0, d.values, axis=1) #colocando os valores na coluna de X a partir da coluna 0 os valores de D"
      ],
      "metadata": {
        "id": "VAzHnWPHLQQK"
      },
      "execution_count": 41,
      "outputs": []
    },
    {
      "cell_type": "code",
      "source": [
        "from sklearn.model_selection import train_test_split"
      ],
      "metadata": {
        "id": "NRFkhZsFLQ1H"
      },
      "execution_count": 43,
      "outputs": []
    },
    {
      "cell_type": "code",
      "source": [
        "xTrain,xTest,yTrain,yTest= train_test_split(x,y, test_size=0.3)"
      ],
      "metadata": {
        "id": "g19I5HByMSYp"
      },
      "execution_count": 44,
      "outputs": []
    },
    {
      "cell_type": "code",
      "source": [
        "print(xTrain)"
      ],
      "metadata": {
        "colab": {
          "base_uri": "https://localhost:8080/"
        },
        "id": "2UWeIcpuOxfM",
        "outputId": "1fa58cb9-232f-41ae-a060-198c8d0c1e81"
      },
      "execution_count": 45,
      "outputs": [
        {
          "output_type": "stream",
          "name": "stdout",
          "text": [
            "[[0 1 0 0 0 0 0 0 0 321 109 3 3.0 4.0 8.2 1]\n",
            " [0 0 0 0 0 0 1 0 0 314 103 2 2.0 3.0 8.21 0]\n",
            " [0 0 0 1 0 0 0 0 0 330 115 5 4.5 3.0 9.34 1]\n",
            " [1 0 0 0 0 0 0 0 0 302 102 1 2.0 1.5 8.0 0]\n",
            " [0 0 1 0 0 0 0 0 0 322 110 3 3.5 2.5 8.67 1]\n",
            " [0 0 0 0 0 0 0 0 1 337 118 4 4.5 4.5 9.65 1]]\n"
          ]
        }
      ]
    },
    {
      "cell_type": "code",
      "source": [],
      "metadata": {
        "id": "l-u8DyFSOzgo"
      },
      "execution_count": null,
      "outputs": []
    }
  ]
}